{
 "cells": [
  {
   "cell_type": "code",
   "execution_count": 4,
   "id": "bb95ebfb",
   "metadata": {},
   "outputs": [],
   "source": [
    "# Add dependencies.\n",
    "import pandas as pd"
   ]
  },
  {
   "cell_type": "code",
   "execution_count": 6,
   "id": "86a703e1",
   "metadata": {},
   "outputs": [
    {
     "data": {
      "text/html": [
       "<div>\n",
       "<style scoped>\n",
       "    .dataframe tbody tr th:only-of-type {\n",
       "        vertical-align: middle;\n",
       "    }\n",
       "\n",
       "    .dataframe tbody tr th {\n",
       "        vertical-align: top;\n",
       "    }\n",
       "\n",
       "    .dataframe thead th {\n",
       "        text-align: right;\n",
       "    }\n",
       "</style>\n",
       "<table border=\"1\" class=\"dataframe\">\n",
       "  <thead>\n",
       "    <tr style=\"text-align: right;\">\n",
       "      <th></th>\n",
       "      <th>review_id</th>\n",
       "      <th>star_rating</th>\n",
       "      <th>helpful_votes</th>\n",
       "      <th>total_votes</th>\n",
       "      <th>vine</th>\n",
       "      <th>verified_purchase</th>\n",
       "    </tr>\n",
       "  </thead>\n",
       "  <tbody>\n",
       "    <tr>\n",
       "      <th>0</th>\n",
       "      <td>R3O9SGZBVQBV76</td>\n",
       "      <td>5</td>\n",
       "      <td>0</td>\n",
       "      <td>0</td>\n",
       "      <td>N</td>\n",
       "      <td>Y</td>\n",
       "    </tr>\n",
       "    <tr>\n",
       "      <th>1</th>\n",
       "      <td>RKH8BNC3L5DLF</td>\n",
       "      <td>5</td>\n",
       "      <td>0</td>\n",
       "      <td>0</td>\n",
       "      <td>N</td>\n",
       "      <td>Y</td>\n",
       "    </tr>\n",
       "    <tr>\n",
       "      <th>2</th>\n",
       "      <td>R2HLE8WKZSU3NL</td>\n",
       "      <td>2</td>\n",
       "      <td>1</td>\n",
       "      <td>1</td>\n",
       "      <td>N</td>\n",
       "      <td>Y</td>\n",
       "    </tr>\n",
       "    <tr>\n",
       "      <th>3</th>\n",
       "      <td>R31U3UH5AZ42LL</td>\n",
       "      <td>5</td>\n",
       "      <td>0</td>\n",
       "      <td>0</td>\n",
       "      <td>N</td>\n",
       "      <td>Y</td>\n",
       "    </tr>\n",
       "    <tr>\n",
       "      <th>4</th>\n",
       "      <td>R2SV659OUJ945Y</td>\n",
       "      <td>4</td>\n",
       "      <td>0</td>\n",
       "      <td>0</td>\n",
       "      <td>N</td>\n",
       "      <td>Y</td>\n",
       "    </tr>\n",
       "  </tbody>\n",
       "</table>\n",
       "</div>"
      ],
      "text/plain": [
       "        review_id  star_rating  helpful_votes  total_votes vine  \\\n",
       "0  R3O9SGZBVQBV76            5              0            0    N   \n",
       "1   RKH8BNC3L5DLF            5              0            0    N   \n",
       "2  R2HLE8WKZSU3NL            2              1            1    N   \n",
       "3  R31U3UH5AZ42LL            5              0            0    N   \n",
       "4  R2SV659OUJ945Y            4              0            0    N   \n",
       "\n",
       "  verified_purchase  \n",
       "0                 Y  \n",
       "1                 Y  \n",
       "2                 Y  \n",
       "3                 Y  \n",
       "4                 Y  "
      ]
     },
     "execution_count": 6,
     "metadata": {},
     "output_type": "execute_result"
    }
   ],
   "source": [
    "# Files to load\n",
    "vine_table_to_load = \"vine_table.csv\"\n",
    "vine_table_df = pd.read_csv(vine_table_to_load)\n",
    "vine_table_df.head()"
   ]
  },
  {
   "cell_type": "code",
   "execution_count": 10,
   "id": "404403dc",
   "metadata": {},
   "outputs": [
    {
     "data": {
      "text/html": [
       "<div>\n",
       "<style scoped>\n",
       "    .dataframe tbody tr th:only-of-type {\n",
       "        vertical-align: middle;\n",
       "    }\n",
       "\n",
       "    .dataframe tbody tr th {\n",
       "        vertical-align: top;\n",
       "    }\n",
       "\n",
       "    .dataframe thead th {\n",
       "        text-align: right;\n",
       "    }\n",
       "</style>\n",
       "<table border=\"1\" class=\"dataframe\">\n",
       "  <thead>\n",
       "    <tr style=\"text-align: right;\">\n",
       "      <th></th>\n",
       "      <th>review_id</th>\n",
       "      <th>star_rating</th>\n",
       "      <th>helpful_votes</th>\n",
       "      <th>total_votes</th>\n",
       "      <th>vine</th>\n",
       "      <th>verified_purchase</th>\n",
       "    </tr>\n",
       "  </thead>\n",
       "  <tbody>\n",
       "    <tr>\n",
       "      <th>619</th>\n",
       "      <td>R1BTWIBLYYVOV7</td>\n",
       "      <td>5</td>\n",
       "      <td>30</td>\n",
       "      <td>30</td>\n",
       "      <td>N</td>\n",
       "      <td>Y</td>\n",
       "    </tr>\n",
       "    <tr>\n",
       "      <th>1025</th>\n",
       "      <td>R6F9VY91ADPLA</td>\n",
       "      <td>1</td>\n",
       "      <td>8</td>\n",
       "      <td>30</td>\n",
       "      <td>N</td>\n",
       "      <td>N</td>\n",
       "    </tr>\n",
       "    <tr>\n",
       "      <th>1548</th>\n",
       "      <td>R3PXNV89DFIXKV</td>\n",
       "      <td>5</td>\n",
       "      <td>35</td>\n",
       "      <td>37</td>\n",
       "      <td>N</td>\n",
       "      <td>Y</td>\n",
       "    </tr>\n",
       "    <tr>\n",
       "      <th>1573</th>\n",
       "      <td>R2ZF9NYVT3J7D6</td>\n",
       "      <td>5</td>\n",
       "      <td>19</td>\n",
       "      <td>22</td>\n",
       "      <td>N</td>\n",
       "      <td>Y</td>\n",
       "    </tr>\n",
       "    <tr>\n",
       "      <th>1615</th>\n",
       "      <td>R20NYA5V0UF9NE</td>\n",
       "      <td>5</td>\n",
       "      <td>27</td>\n",
       "      <td>28</td>\n",
       "      <td>N</td>\n",
       "      <td>Y</td>\n",
       "    </tr>\n",
       "  </tbody>\n",
       "</table>\n",
       "</div>"
      ],
      "text/plain": [
       "           review_id  star_rating  helpful_votes  total_votes vine  \\\n",
       "619   R1BTWIBLYYVOV7            5             30           30    N   \n",
       "1025   R6F9VY91ADPLA            1              8           30    N   \n",
       "1548  R3PXNV89DFIXKV            5             35           37    N   \n",
       "1573  R2ZF9NYVT3J7D6            5             19           22    N   \n",
       "1615  R20NYA5V0UF9NE            5             27           28    N   \n",
       "\n",
       "     verified_purchase  \n",
       "619                  Y  \n",
       "1025                 N  \n",
       "1548                 Y  \n",
       "1573                 Y  \n",
       "1615                 Y  "
      ]
     },
     "execution_count": 10,
     "metadata": {},
     "output_type": "execute_result"
    }
   ],
   "source": [
    "# 1: filter data to show total_votes >20 in a df\n",
    "total_votes20 = vine_table_df[vine_table_df['total_votes'] > 20]\n",
    "total_votes20.head()\n"
   ]
  },
  {
   "cell_type": "code",
   "execution_count": 12,
   "id": "23b91f92",
   "metadata": {},
   "outputs": [
    {
     "data": {
      "text/html": [
       "<div>\n",
       "<style scoped>\n",
       "    .dataframe tbody tr th:only-of-type {\n",
       "        vertical-align: middle;\n",
       "    }\n",
       "\n",
       "    .dataframe tbody tr th {\n",
       "        vertical-align: top;\n",
       "    }\n",
       "\n",
       "    .dataframe thead th {\n",
       "        text-align: right;\n",
       "    }\n",
       "</style>\n",
       "<table border=\"1\" class=\"dataframe\">\n",
       "  <thead>\n",
       "    <tr style=\"text-align: right;\">\n",
       "      <th></th>\n",
       "      <th>review_id</th>\n",
       "      <th>star_rating</th>\n",
       "      <th>helpful_votes</th>\n",
       "      <th>total_votes</th>\n",
       "      <th>vine</th>\n",
       "      <th>verified_purchase</th>\n",
       "    </tr>\n",
       "  </thead>\n",
       "  <tbody>\n",
       "    <tr>\n",
       "      <th>619</th>\n",
       "      <td>R1BTWIBLYYVOV7</td>\n",
       "      <td>5</td>\n",
       "      <td>30</td>\n",
       "      <td>30</td>\n",
       "      <td>N</td>\n",
       "      <td>Y</td>\n",
       "    </tr>\n",
       "    <tr>\n",
       "      <th>1548</th>\n",
       "      <td>R3PXNV89DFIXKV</td>\n",
       "      <td>5</td>\n",
       "      <td>35</td>\n",
       "      <td>37</td>\n",
       "      <td>N</td>\n",
       "      <td>Y</td>\n",
       "    </tr>\n",
       "    <tr>\n",
       "      <th>1573</th>\n",
       "      <td>R2ZF9NYVT3J7D6</td>\n",
       "      <td>5</td>\n",
       "      <td>19</td>\n",
       "      <td>22</td>\n",
       "      <td>N</td>\n",
       "      <td>Y</td>\n",
       "    </tr>\n",
       "    <tr>\n",
       "      <th>1615</th>\n",
       "      <td>R20NYA5V0UF9NE</td>\n",
       "      <td>5</td>\n",
       "      <td>27</td>\n",
       "      <td>28</td>\n",
       "      <td>N</td>\n",
       "      <td>Y</td>\n",
       "    </tr>\n",
       "    <tr>\n",
       "      <th>2304</th>\n",
       "      <td>R2X8FZRUOS8R8C</td>\n",
       "      <td>4</td>\n",
       "      <td>25</td>\n",
       "      <td>26</td>\n",
       "      <td>N</td>\n",
       "      <td>Y</td>\n",
       "    </tr>\n",
       "  </tbody>\n",
       "</table>\n",
       "</div>"
      ],
      "text/plain": [
       "           review_id  star_rating  helpful_votes  total_votes vine  \\\n",
       "619   R1BTWIBLYYVOV7            5             30           30    N   \n",
       "1548  R3PXNV89DFIXKV            5             35           37    N   \n",
       "1573  R2ZF9NYVT3J7D6            5             19           22    N   \n",
       "1615  R20NYA5V0UF9NE            5             27           28    N   \n",
       "2304  R2X8FZRUOS8R8C            4             25           26    N   \n",
       "\n",
       "     verified_purchase  \n",
       "619                  Y  \n",
       "1548                 Y  \n",
       "1573                 Y  \n",
       "1615                 Y  \n",
       "2304                 Y  "
      ]
     },
     "execution_count": 12,
     "metadata": {},
     "output_type": "execute_result"
    }
   ],
   "source": [
    "# 2: Filter df from #1 to retrieve all helpful vptes in a new df\n",
    "divide_df= total_votes20[(total_votes20['helpful_votes'] / total_votes20['total_votes']) >= 0.5]\n",
    "divide_df.head()"
   ]
  },
  {
   "cell_type": "code",
   "execution_count": 47,
   "id": "4619be51",
   "metadata": {},
   "outputs": [
    {
     "data": {
      "text/plain": [
       "43"
      ]
     },
     "execution_count": 47,
     "metadata": {},
     "output_type": "execute_result"
    }
   ],
   "source": [
    "# 3: filter df from #2 to gather vine reviews in a df\n",
    "vineY = divide_df[(divide_df[\"vine\"] == 'Y')]\n",
    "#total vine reviews\n",
    "vineY_count = vineY['review_id'].count()\n",
    "vineY_count"
   ]
  },
  {
   "cell_type": "code",
   "execution_count": 46,
   "id": "757431ce",
   "metadata": {},
   "outputs": [
    {
     "data": {
      "text/plain": [
       "7750"
      ]
     },
     "execution_count": 46,
     "metadata": {},
     "output_type": "execute_result"
    }
   ],
   "source": [
    "# 4: filter df from #2 to gather non-vine reviews in a df\n",
    "vineN = divide_df[(divide_df[\"vine\"] == 'N')]\n",
    "# total non-vine reviews\n",
    "vineN_count = vineN['review_id'].count()\n",
    "vineN_count"
   ]
  },
  {
   "cell_type": "code",
   "execution_count": 49,
   "id": "be670bcd",
   "metadata": {},
   "outputs": [
    {
     "data": {
      "text/plain": [
       "14"
      ]
     },
     "execution_count": 49,
     "metadata": {},
     "output_type": "execute_result"
    }
   ],
   "source": [
    "# total vine 5 star reviews\n",
    "vineY_5 = vineY[(vineY[\"star_rating\"] >= 5)]\n",
    "vineY5_count = vineY_5['review_id'].count()\n",
    "vineY5_count"
   ]
  },
  {
   "cell_type": "code",
   "execution_count": 50,
   "id": "d2b60400",
   "metadata": {},
   "outputs": [
    {
     "data": {
      "text/plain": [
       "4027"
      ]
     },
     "execution_count": 50,
     "metadata": {},
     "output_type": "execute_result"
    }
   ],
   "source": [
    "# total non-vine 5 star reviews\n",
    "vineN_5 = vineN[(vineN[\"star_rating\"] >= 5)]\n",
    "vineN5_count = vineN_5['review_id'].count()\n",
    "vineN5_count"
   ]
  },
  {
   "cell_type": "code",
   "execution_count": 51,
   "id": "e3c08f0b",
   "metadata": {},
   "outputs": [
    {
     "name": "stdout",
     "output_type": "stream",
     "text": [
      "32.55813953488372 %\n"
     ]
    }
   ],
   "source": [
    "# Percentage of 5 star reviews from vine users\n",
    "percent_vineY_5 = (vineY5_count/vineY_count)*100\n",
    "print (percent_vineY_5,\"%\")"
   ]
  },
  {
   "cell_type": "code",
   "execution_count": 55,
   "id": "7c89dac2",
   "metadata": {},
   "outputs": [
    {
     "name": "stdout",
     "output_type": "stream",
     "text": [
      "51.961290322580645 %\n"
     ]
    }
   ],
   "source": [
    "# Percentage of 5 star reviews from non-vine users\n",
    "percent_vineN_5 = (vineN5_count/vineN_count)*100\n",
    "print (percent_vineN_5,\"%\")"
   ]
  },
  {
   "cell_type": "code",
   "execution_count": 57,
   "id": "eeb734f9",
   "metadata": {},
   "outputs": [
    {
     "name": "stdout",
     "output_type": "stream",
     "text": [
      "32.56 %\n",
      "51.96 %\n"
     ]
    }
   ],
   "source": [
    "import numpy as np\n",
    "percent_vineY_5 = np.round(percent_vineY_5, decimals=2)\n",
    "print(percent_vineY_5,\"%\")\n",
    "percent_vineN_5 = np.round(percent_vineN_5, decimals=2)\n",
    "print (percent_vineN_5,\"%\")"
   ]
  },
  {
   "cell_type": "code",
   "execution_count": 58,
   "id": "cc101751",
   "metadata": {},
   "outputs": [
    {
     "name": "stdout",
     "output_type": "stream",
     "text": [
      "There are 43 vine reviews.\n",
      "There are 7750 non-vine reviews.\n",
      "There are 14 5-star vine reviews.\n",
      "There are 4027 5-star non-vine reviews.\n",
      "There are 32.56% 5-star vine reviews.\n",
      "There are 51.96% 5-star non-vine reviews.\n"
     ]
    }
   ],
   "source": [
    "print(f\"There are {vineY_count} vine reviews.\")\n",
    "print(f\"There are {vineN_count} non-vine reviews.\")\n",
    "print(f\"There are {vineY5_count} 5-star vine reviews.\")\n",
    "print(f\"There are {vineN5_count} 5-star non-vine reviews.\")\n",
    "print(f\"There are {percent_vineY_5}% 5-star vine reviews.\")\n",
    "print(f\"There are {percent_vineN_5}% 5-star non-vine reviews.\")"
   ]
  },
  {
   "cell_type": "code",
   "execution_count": null,
   "id": "067315b3",
   "metadata": {},
   "outputs": [],
   "source": []
  }
 ],
 "metadata": {
  "kernelspec": {
   "display_name": "Python 3 (ipykernel)",
   "language": "python",
   "name": "python3"
  },
  "language_info": {
   "codemirror_mode": {
    "name": "ipython",
    "version": 3
   },
   "file_extension": ".py",
   "mimetype": "text/x-python",
   "name": "python",
   "nbconvert_exporter": "python",
   "pygments_lexer": "ipython3",
   "version": "3.7.11"
  }
 },
 "nbformat": 4,
 "nbformat_minor": 5
}
